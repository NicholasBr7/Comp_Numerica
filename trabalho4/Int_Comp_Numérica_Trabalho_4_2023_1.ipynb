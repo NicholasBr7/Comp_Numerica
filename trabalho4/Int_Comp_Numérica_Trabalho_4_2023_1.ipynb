{
  "nbformat": 4,
  "nbformat_minor": 0,
  "metadata": {
    "colab": {
      "provenance": []
    },
    "language_info": {
      "name": "python"
    },
    "kernelspec": {
      "name": "python3",
      "display_name": "Python 3"
    },
    "gpuClass": "standard"
  },
  "cells": [
    {
      "cell_type": "markdown",
      "metadata": {
        "id": "MSRVgJX_J3Nf"
      },
      "source": [
        "#Trabalho prático # 4\n",
        "##Introdução à Computação Numérica\n",
        "\n",
        "###Tópico: Integração numérica\n",
        "\n",
        "---\n",
        "\n",
        "Nome: *(preencher)*\n",
        "\n",
        "DRE: *(preencher)*\n",
        "\n",
        "\n",
        "---\n",
        "\n",
        "**Instruções:**\n",
        "\n",
        "**Preencha o notebook** com seus dados, seus códigos e **rode todos os códigos**\n",
        "\n",
        "**Inclua  um relatório, na parte final do notebook,** com suas conclusões, respostas, observações e comentários relacionados com os tópicos e questões abordadas nas tarefas.\n",
        "\n",
        "**A elaboração dos códigos pode ser realizada em duplas, mas o resto do trabalho é individual.**\n",
        "\n",
        "*Se você fez o seu trabalho em dupla inclua essa informação no relatório. Além disso, se você  também recebeu ajuda de um(a) colega/amigo(a) ou consultou/usou informações da internet ou outras fontes, coloque referências à elas no seu relatório.*\n",
        "\n",
        "\n",
        "**Entrega do trabalho:**\n",
        "\n",
        "*Data de entrega: 27/junho/2023*\n",
        "\n",
        "---\n"
      ]
    },
    {
      "cell_type": "markdown",
      "metadata": {
        "id": "Ud-A5dLPQsTx"
      },
      "source": [
        "## Tarefa #1\n",
        "\n",
        "Implemente funções em Python para aproximar a integral definida\n",
        "$$\n",
        "I = \\int_a^b f(x)\\,dx,\n",
        "$$\n",
        "usando:\n",
        "i) a regra dos trapézios repetida/composta;\n",
        "ii) a regra de Simpson repetida/composta.\n",
        "\n",
        "a) Considere como parâmetros de entrada o espaçamento $h$ entre os nós (pontos) que serão usados e uma lista com os valores da função nesses nós: $f_j = f(a+j\\, h)$,  $j=0,\\dots,n$.\n",
        "\n",
        "b) Considere como parâmetros de entrada o intervalo $[a, b]$, a função $f$ e a quantidade de nós (pontos) que serão usados.\n",
        "\n",
        "**Observação**: Você precisará implementar 4 funções.\n"
      ]
    },
    {
      "cell_type": "code",
      "source": [
        "# Adicione aqui seus códigos, mostrando os resultados pedidos"
      ],
      "metadata": {
        "id": "tkLP1x2H5n72"
      },
      "execution_count": null,
      "outputs": []
    },
    {
      "cell_type": "markdown",
      "source": [
        "##Tarefa #2: Teste as funções implementadas\n",
        "\n",
        "a) Procure uma função $f$ que não seja um polinômio e cuja integral definida pode ser calculada analiticamente (de forma exata) no intervalo escolhido.\n",
        "\n",
        "b) Obtenha aproximações do valor da integral definida dessa função considerando $n=10$, $50$, $100$ e $200$ (note que a quantidade de nós em cada caso será igual a $n+1$). Para cada valor de $n$ obtenha aproximações usando suas implementações das regras dos trapézios e de Simpson.\n",
        "\n",
        "c) Determine os erros absolutos associados com as aproximações obtidas no item b).\n",
        "\n",
        "d) Comente e explique os resultados obtidos em b) e c)."
      ],
      "metadata": {
        "id": "Dt1t2lyEkP7Z"
      }
    },
    {
      "cell_type": "code",
      "metadata": {
        "id": "jK7hw9i2Onjt"
      },
      "source": [
        "# Adicione aqui seus códigos, mostrando os resultados pedidos"
      ],
      "execution_count": null,
      "outputs": []
    },
    {
      "cell_type": "markdown",
      "source": [
        "##Tarefa #3: Aplicação\n",
        "\n",
        "A **integral de Fresnel C(x)** é uma função definida como\n",
        "$$\n",
        "\\mathrm{C}(x) = \\int_0^x \\cos(\\pi\\,t^2/2)\\,dt.\n",
        "$$\n",
        "\n",
        "a) Faça a implementação de uma função que determine o valor aproximado de $\\mathrm{C}(x)$ para qualquer entrada $x$ com um erro absoluto menor que $10^{-8}$. Explique as ideias básicas da sua implementação no seu relatório.\n",
        "\n",
        "b) Teste a função implementada comparando com os seguintes valores*:\n",
        "\n",
        "i) $\\mathrm{C}(-2) = -0.48825340607534075450$,\n",
        "\n",
        "ii) $\\mathrm{C}(0.5) = 0.49234422587144639288$,\n",
        "\n",
        "iii) $\\mathrm{C}(1) = 0.77989340037682282947$,\n",
        "\n",
        "iv) $\\mathrm{C}(5) = 0.56363118870401223110$.\n",
        "\n",
        "*Os valores apresentados foram calculados com 16 dígitos de precisão.\n",
        "\n",
        "\n"
      ],
      "metadata": {
        "id": "ctpe52U3VFkc"
      }
    },
    {
      "cell_type": "code",
      "source": [
        "# Adicione aqui seus códigos, mostrando os resultados pedidos"
      ],
      "metadata": {
        "id": "QbG_27yyPAPj"
      },
      "execution_count": null,
      "outputs": []
    },
    {
      "cell_type": "markdown",
      "metadata": {
        "id": "isWQBJ32XORa"
      },
      "source": [
        "## Relatório\n",
        "\n",
        "*(Escreva aqui seu relatório.)*"
      ]
    }
  ]
}