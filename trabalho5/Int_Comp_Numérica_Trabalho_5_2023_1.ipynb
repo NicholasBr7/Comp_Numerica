{
  "nbformat": 4,
  "nbformat_minor": 0,
  "metadata": {
    "colab": {
      "provenance": []
    }
  },
  "cells": [
    {
      "cell_type": "markdown",
      "metadata": {
        "id": "MSRVgJX_J3Nf"
      },
      "source": [
        "#Trabalho prático # 5\n",
        "##Introdução à Computação Numérica\n",
        "\n",
        "###Tópico: Solução de Problemas de Valor Inicial (PVI)\n",
        "\n",
        "---\n",
        "\n",
        "Nome: *(preencher)*\n",
        "\n",
        "DRE: *(preencher)*\n",
        "\n",
        "\n",
        "---\n",
        "\n",
        "**Instruções:**\n",
        "\n",
        "**Preencha o notebook** com seus dados, seus códigos e **rode todos os códigos**\n",
        "\n",
        "**Inclua  um relatório, na parte final do notebook,** com suas conclusões, respostas, observações e comentários relacionados com os tópicos e questões abordadas nas tarefas.  \n",
        "\n",
        "**A elaboração dos códigos pode ser realizada em duplas, mas o resto do trabalho é individual.**\n",
        "\n",
        "*Se você fez o seu trabalho em dupla inclua essa informação no relatório. Além disso, se você  também recebeu ajuda de um(a) colega/amigo(a) ou consultou/usou informações da internet ou outras fontes, coloque referências à elas no seu relatório.*\n",
        "\n",
        "\n",
        "**Entrega do trabalho:**\n",
        "\n",
        "*Data de entrega: 12/julho/2023*\n",
        "\n",
        "---\n"
      ]
    },
    {
      "cell_type": "markdown",
      "metadata": {
        "id": "Ud-A5dLPQsTx"
      },
      "source": [
        "## Tarefa #1:\n",
        "\n",
        " Desenvolver códigos, na forma de funções que implementem:\n",
        "\n",
        "a) O Método de Euler.\n",
        "\n",
        "b) O Método  de Euler aperfeiçoado (ou Método de Heun).\n",
        "\n",
        "c) O Método de Runge-Kutta clássico de quarta ordem.\n",
        "\n"
      ]
    },
    {
      "cell_type": "code",
      "metadata": {
        "id": "jK7hw9i2Onjt"
      },
      "source": [
        "# Adicione aqui sua função correspondente ao item a)"
      ],
      "execution_count": null,
      "outputs": []
    },
    {
      "cell_type": "code",
      "metadata": {
        "id": "0OcP16TOOxMX"
      },
      "source": [
        "# Adicione aqui sua função correspondente ao item b)"
      ],
      "execution_count": null,
      "outputs": []
    },
    {
      "cell_type": "code",
      "metadata": {
        "id": "ma3CCBpuLyMG"
      },
      "source": [
        "# Adicione aqui sua função correspondente ao item c)"
      ],
      "execution_count": null,
      "outputs": []
    },
    {
      "cell_type": "markdown",
      "metadata": {
        "id": "7tYAya4HLflB"
      },
      "source": [
        "\n",
        "## Tarefa #2: Paraquedista em queda livre\n",
        "\n",
        "Utilize os seus códigos (da tarefa anterior, itens a), b) e c) ) para responder a seguinte questão.   \n",
        "**Qual será a velocidade vertical atingida  por um paraquedista em queda livre (a velocidade inicial é nula), $25\\,s$ após o salto?**\n",
        "\n",
        "\n",
        "a) Considere que a taxa de variação instantânea da velocidade do paraquedista é dada pela EDO\n",
        "$$\\frac{dv}{dt}=g-\\frac{c}{m} v, $$\n",
        "onde $g=9.81\\,m/s^2$ é a aceleração da gravidade, $m=75\\,kg$ é a massa do paraquedista e $c=12.5\\,kg/s$ é o coeficiente de arrasto correspondente ao paraquedas.\n",
        "\n",
        "Para cada método implementado determine um número de passos tal que o erro na aproximação da velocidade final $v(25)$ seja inferior a $10^{-2}$, se sabemos que o valor exato da velocidade  pode ser calculado pela fórmula\n",
        "$$v(t) = \\frac{gm}{c}\\left( 1-e^{-(c/m)t}\\right).$$\n",
        "\n",
        "Dica: Isto poderá ser feito por tentativa e erro.\n",
        "\n",
        "b) Considere uma outra lei para a taxa de variação instantânea da velocidade do paraquedista dada pela EDO\n",
        "$$\\frac{dv}{dt}=g-\\frac{C(v)}{m} v, $$\n",
        "onde a função empiríca $C(v)$ que caracteriza a resistência do paraquedas é dada por\n",
        "$$C(v) = c\\left[1+\\alpha \\left(\\frac{v}{v_{max}}\\right)^\\beta\\right],$$\n",
        "em que $c=12.5\\,kg/s$, $\\alpha=0.2$, $\\beta =1.1$ e $v_{max} = 46\\,m/s$.  (Observe que no caso $\\alpha=0$ este modelo coincide com o apresentado no item a).)\n",
        "\n",
        "Obtenha a velocidade final usando cada um dos métodos implementados considerando o mesmo número de passos definido no item a)).\n",
        "\n",
        "c) Compare as velocidades obtidas nos itens a) e b).\n"
      ]
    },
    {
      "cell_type": "code",
      "metadata": {
        "id": "MdDfWSqzQQwJ"
      },
      "source": [
        "# Adicione aqui o código para resolver o item a)"
      ],
      "execution_count": null,
      "outputs": []
    },
    {
      "cell_type": "code",
      "metadata": {
        "id": "YFDknVUqQRN6"
      },
      "source": [
        "# Adicione aqui o código para resolver o item b)"
      ],
      "execution_count": null,
      "outputs": []
    },
    {
      "cell_type": "code",
      "metadata": {
        "id": "uLqIqrg_iFkP"
      },
      "source": [
        "# Adicione aqui o código para resolver o item c)"
      ],
      "execution_count": null,
      "outputs": []
    },
    {
      "cell_type": "markdown",
      "metadata": {
        "id": "3oYuYZILVvhL"
      },
      "source": [
        "## Tarefa #3: Propagação de uma doença infecciosa\n",
        "\n",
        "Para modelar a dinâmica de uma doença infecciosa em que os indivíduos se recuperam sem imunidade, é usado o seguinte sistema de duas EDOs conhecido como modelo SIS:\n",
        "\n",
        "$$\n",
        "\\left\\{\n",
        "\\begin{aligned}\n",
        "\\frac{d S}{dt} &= -\\beta S I + \\gamma I\\\\\n",
        "\\frac{d I}{dt} &= \\beta S I - \\gamma I\n",
        "\\end{aligned}\n",
        "\\right.\n",
        "$$\n",
        "\n",
        "onde $S$ e $I$ representam o número de indivíduos suscetíveis e infectados, respectivamente, $t$ o tempo,  $\\beta$ a velocidade de contacto ou infecção da doença e $\\gamma$ a taxa de recuperação média.\n",
        "\n",
        "Considere uma cidade com uma população de $10000$ indivíduos todos suscetíveis. Se um único indivíduo infectado entra na cidade to tempo $t = 0$, qual será a quantidade de indivíduos suscetíveis e infectados após $3$ semanas? Use os parâmetros $\\beta = 0.0003/(\\mathit{indivíduo\\cdot dia})$ e $\\gamma = 0.15/\\mathit{dia}$.\n",
        "\n",
        "Utilize o seu código do método de RK de $4^a$ ordem (tarefa #1, item c)) para responder a essa questão. Procure uma aproximação com erro estimado inferior a $0.05$. Explique."
      ]
    },
    {
      "cell_type": "code",
      "metadata": {
        "id": "6Kmmzgkjq_YL"
      },
      "source": [
        "# Adicione aqui o código para resolver a questão"
      ],
      "execution_count": null,
      "outputs": []
    },
    {
      "cell_type": "markdown",
      "metadata": {
        "id": "isWQBJ32XORa"
      },
      "source": [
        "## Relatório\n",
        "\n",
        "*Escreva aquí seu relatório.*"
      ]
    }
  ]
}